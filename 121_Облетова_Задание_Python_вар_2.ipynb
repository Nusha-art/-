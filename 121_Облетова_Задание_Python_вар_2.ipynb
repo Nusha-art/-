{
  "nbformat": 4,
  "nbformat_minor": 0,
  "metadata": {
    "colab": {
      "provenance": [],
      "authorship_tag": "ABX9TyMDYRWG+QKVOrI6/HT+UbFA",
      "include_colab_link": true
    },
    "kernelspec": {
      "name": "python3",
      "display_name": "Python 3"
    },
    "language_info": {
      "name": "python"
    }
  },
  "cells": [
    {
      "cell_type": "markdown",
      "metadata": {
        "id": "view-in-github",
        "colab_type": "text"
      },
      "source": [
        "<a href=\"https://colab.research.google.com/github/Nusha-art/-/blob/main/121_%D0%9E%D0%B1%D0%BB%D0%B5%D1%82%D0%BE%D0%B2%D0%B0_%D0%97%D0%B0%D0%B4%D0%B0%D0%BD%D0%B8%D0%B5_Python_%D0%B2%D0%B0%D1%80_2.ipynb\" target=\"_parent\"><img src=\"https://colab.research.google.com/assets/colab-badge.svg\" alt=\"Open In Colab\"/></a>"
      ]
    },
    {
      "cell_type": "markdown",
      "source": [
        "# Задание 1\n",
        "Напишите функцию, которая находит самую длинную строку общего префикса среди массива строк.\n",
        "\n",
        "Если общего префикса нет, вернуть пустую строку \"\"."
      ],
      "metadata": {
        "id": "S2F2UpN0IPh2"
      }
    },
    {
      "cell_type": "code",
      "execution_count": 27,
      "metadata": {
        "colab": {
          "base_uri": "https://localhost:8080/"
        },
        "id": "Bjjyd5V0H_kC",
        "outputId": "beca1475-a7f2-4c41-b8a8-425ee2d26eda"
      },
      "outputs": [
        {
          "output_type": "stream",
          "name": "stdout",
          "text": [
            "2\n",
            "qwerttuioopajshyyhthfjy\n",
            "Your string so long\n"
          ]
        }
      ],
      "source": [
        "import re\n",
        "import sys\n",
        "\n",
        "\n",
        "def longestCommonPrefix(strs):\n",
        "  if flag==False: #флаг для закрытия программы\n",
        "    exit(0)\n",
        "  else:\n",
        "    prefix = ''\n",
        "    for char in zip(*strs): #итерации по массиву\n",
        "        if len(set(char)) == 1:\n",
        "            prefix += char[0]\n",
        "        else:\n",
        "            break\n",
        "    return prefix\n",
        "    #если нашел 1 объект, то объект прибавляется к искомой строке, в ином случае цикл прекращается и возвращается искомая строка или пустые кавычки\n",
        " \n",
        "N=int(input())\n",
        "list=[]\n",
        "for i in range (N):\n",
        "  if N>=1 and N<=200: #проверка на количество проверяемых слов\n",
        "    list.append(input())\n",
        "    if len(list[i])>=0 and len(list[i])<=200: #проверка на длину введенной строки\n",
        "      if not re.match(r'^[a-zA-Z ]', list[i]): #проверка на английские буквы\n",
        "        print(\"You use no English keyboard. Pleese, use only English keyboard\")\n",
        "        flag=False\n",
        "        break\n",
        "      else: #если слово написано на английском языке, то цикл продолжается. В любом случае ошибки консольвыводит сообщение и программа завершается\n",
        "        flag=True\n",
        "        continue      \n",
        "    else:\n",
        "      print(\"Your string so long\")\n",
        "      flag=False\n",
        "      break\n",
        "  else:\n",
        "      print(\"Your list so long\")\n",
        "      flag=False\n",
        "      break\n",
        "longestCommonPrefix(list) #вызов функции подсчета префикса\n",
        "\n"
      ]
    },
    {
      "cell_type": "markdown",
      "source": [
        "# Задание 2\n",
        "Дана строка s, содержащую только символы '(', ')', '{', '}', '[' и ']', определите, допустима ли входная строка.\n",
        "\n",
        "Входная строка действительна, если:\n",
        "\n",
        "Открытые скобки должны быть закрыты однотипными скобками.\n",
        "\n",
        "Открытые скобки должны быть закрыты в правильном порядке.\n",
        "\n",
        "Каждой закрывающей скобке соответствует открытая скобка того же типа."
      ],
      "metadata": {
        "id": "iJhxs2tHIViS"
      }
    },
    {
      "cell_type": "code",
      "source": [
        "def isValid(s: str) -> bool:\n",
        "  b = []\n",
        "\n",
        "  for i in range(len(s)):\n",
        "      if s[i] == \"(\" or s[i] == \"[\" or s[i] == \"{\":  # предполагая что дальше будет закрывающаяся скобка, заносим ее в список\n",
        "          b.append(s[i])\n",
        "      elif len(b) > 1 and ((s[i] == \")\" and b[-1] == \"(\") or (s[i] == \"]\" and b[-1] == \"[\") or (s[i] == \"}\" and b[-1] == \"{\")):  # если тип скобок совпадает отбрасываем их\n",
        "          b.pop()\n",
        "      else:\n",
        "        print(\"False\")\n",
        "        return False\n",
        "  if len(b) == 0:\n",
        "    print(\"True\")\n",
        "    return True\n",
        "\n",
        "s=input()\n",
        "V=isValid(s)\n"
      ],
      "metadata": {
        "colab": {
          "base_uri": "https://localhost:8080/"
        },
        "id": "Z9LTF1AnIc0_",
        "outputId": "380c04ad-7448-4b48-e6d2-884b86770864"
      },
      "execution_count": 25,
      "outputs": [
        {
          "output_type": "stream",
          "name": "stdout",
          "text": [
            "()\n",
            "False\n"
          ]
        }
      ]
    },
    {
      "cell_type": "markdown",
      "source": [
        "# Задание 3\n",
        "Даны две строки needle и haystack, вернуть индекс первого вхождения needle в haystack или -1, если needle не является частью haystack."
      ],
      "metadata": {
        "id": "Jw2RPY3pIdSx"
      }
    },
    {
      "cell_type": "code",
      "source": [],
      "metadata": {
        "id": "qR7F65pnIfP1"
      },
      "execution_count": null,
      "outputs": []
    },
    {
      "cell_type": "markdown",
      "source": [
        "# Задание 4\n",
        "Вам дано большое целое число, представленное в виде целочисленного массива цифр, где каждая цифра[i] — это i-я цифра целого числа. Цифры упорядочены от наиболее значащего к наименее значащему в порядке слева направо. Большое целое число не содержит ведущих нулей.\n",
        "\n",
        "Увеличьте большое целое число на единицу и верните результирующий массив цифр."
      ],
      "metadata": {
        "id": "sTe20yyyIf2T"
      }
    },
    {
      "cell_type": "code",
      "source": [],
      "metadata": {
        "id": "CXjecs4fIhZj"
      },
      "execution_count": null,
      "outputs": []
    },
    {
      "cell_type": "markdown",
      "source": [
        "# Задание 5\n",
        "Дана строка s, вернуть самую длинную палиндромную подстроку в s."
      ],
      "metadata": {
        "id": "aL1GK2rNIhjE"
      }
    },
    {
      "cell_type": "code",
      "source": [
        "class Solution:\n",
        "    def longestPalindrome(self, s:str)-> str:\n",
        "        paliandr = ''\n",
        "        len_s = len(s)\n",
        "\n",
        "\n",
        "        def if_pal_singl(s,i,dabl):\n",
        "            pal = s[i-dabl:i+1]\n",
        "            indx_left = i-dabl\n",
        "            indx_right = i\n",
        "            while (indx_left-1 in range(len_s) and indx_right+1 in range(len_s)):\n",
        "                indx_left -=1\n",
        "                indx_right +=1\n",
        "                if s[indx_left] == s[indx_right]:\n",
        "                    pal = s[indx_left]+pal+s[indx_right]\n",
        "                else: \n",
        "                    break\n",
        "            return pal  \n",
        "\n",
        "\n",
        "        dabl = 0        \n",
        "        for i in range(1,len_s-1):\n",
        "            if s[i] == s[i+1]:\n",
        "                dabl+=1\n",
        "                continue\n",
        "            pal = if_pal_singl(s,i,dabl)\n",
        "            dabl = 0\n",
        "            if len(pal) > len(paliandr):\n",
        "                paliandr = pal\n",
        "        print (paliandr)\n",
        "if __name__ == \"__main__\":\n",
        "    Solution().longestPalindrome(input())"
      ],
      "metadata": {
        "colab": {
          "base_uri": "https://localhost:8080/"
        },
        "id": "HdeCQ4fSIi5k",
        "outputId": "38b58957-c853-4c9f-d38d-29294a31cbfa"
      },
      "execution_count": 5,
      "outputs": [
        {
          "output_type": "stream",
          "name": "stdout",
          "text": [
            "qwertyytrfdewq\n",
            "rtyytr\n"
          ]
        }
      ]
    }
  ]
}